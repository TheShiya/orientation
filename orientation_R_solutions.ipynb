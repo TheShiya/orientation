{
 "cells": [
  {
   "cell_type": "code",
   "execution_count": null,
   "metadata": {},
   "outputs": [],
   "source": [
    "# {r setup, include=FALSE}\n",
    "#please do not touch this chunk\n",
    "knitr::opts_chunk$set(echo = TRUE, results = \"hold\",fig.width = 7, fig.height = 4)\n",
    "if(!require(\"pacman\")) install.packages(\"pacman\")\n",
    "pacman::p_load(dplyr, ggplot2, plyr, tidyverse, pander, ggpubr, rapportools, knitr, pROC, reshape2)  "
   ]
  },
  {
   "cell_type": "markdown",
   "metadata": {},
   "source": [
    "## Instruction\n",
    "\n",
    "This exercise was adapted by Haoyue Shuai from one of her analysis on phenotype data in preparation for genetic association studies. Don't panic if you're just starting to learn R. The exercise does not involve writing serious software programs in R, but rather to execute some interactive and intuitive commands\n",
    "to get some preliminary phenotype data analysis done. There will be some questions throughout that you can answer using your own words (and some data science intuition) with a few sentences. Some of them involve writing additional codes but you can mostly find and modify codes we provide as examples to address the questions. You do not have to answer all the questions but we strongly encourage you to make an attempt.\n",
    "\n",
    "If you use Jupyter Notebook, please show your answers, codes and plots in the notebook when needed. If you work directly with this Rmd file and use R studio, please convert it into HTML format for us to review (simply by clicking the knit icon in your Rstudio toolbar). \n",
    "Please email the Jupyter Notebook or the Rmd + HTML files to us at wang.gao@columbia.edu. Please don't hesitate to contact us for any scientific or technical blockers, if you cannot find a solution yourself online.\n",
    "\n",
    "\n",
    "### Dataset \n",
    "\n",
    "The data-set can be found as `UKB_Phenotype/data_cleaned.csv`.\n",
    "\n",
    "## Genetic association study\n",
    "\n",
    "We perform genetic association studies to identify genetic factors (variants) that may be involved in a complex trait (tinnitus, asthma, etc) etiology.\n",
    "In brief, genetic association studies compare and identify difference in genetic data of individuals with disease (cases) to those without (controls). \n",
    "We report genetic variants that are observed more frequently in cases than in controls.\n",
    "\n",
    "In order to perform genetic association studies, we need phenotype data and genotype data from individuals we collect.\n",
    "\n",
    "- Phenotype and covariate data: age, sex, height, weight, condition for that trait (tinnitus in the example below case), etc.\n",
    "- Genotype data: You can roughly understand it as a sequence of the bases in DNA molecules, A/T/C/G, for all chromosomes in human genome.\n",
    "\n",
    "### Disease phenotype data \n",
    "\n",
    "We use a toy data-set extracted from the UK Biobank project.\n",
    "\n",
    "**Load the data**\n",
    "\n",
    "Load `UKB_Phenotype/data_cleaned.csv`. Note, you only need to complete the codes when seeing `YOUR CODE`. Please execute other existing codes as is.\n"
   ]
  },
  {
   "cell_type": "code",
   "execution_count": 2,
   "metadata": {},
   "outputs": [
    {
     "data": {
      "text/html": [
       "'/home/shiya/orientation'"
      ],
      "text/latex": [
       "'/home/shiya/orientation'"
      ],
      "text/markdown": [
       "'/home/shiya/orientation'"
      ],
      "text/plain": [
       "[1] \"/home/shiya/orientation\""
      ]
     },
     "metadata": {},
     "output_type": "display_data"
    }
   ],
   "source": [
    "# you need to put the data-set in the same folder\n",
    "# where this .rmd file sits,\n",
    "# which is here:\n",
    "getwd()\n",
    "sub_UKBB<-read.csv(\"UKB_Phenotype/data_cleaned.csv\")"
   ]
  },
  {
   "cell_type": "code",
   "execution_count": 3,
   "metadata": {},
   "outputs": [
    {
     "data": {
      "text/html": [
       "<style>\n",
       ".list-inline {list-style: none; margin:0; padding: 0}\n",
       ".list-inline>li {display: inline-block}\n",
       ".list-inline>li:not(:last-child)::after {content: \"\\00b7\"; padding: 0 .5ex}\n",
       "</style>\n",
       "<ol class=list-inline><li>144756</li><li>11</li></ol>\n"
      ],
      "text/latex": [
       "\\begin{enumerate*}\n",
       "\\item 144756\n",
       "\\item 11\n",
       "\\end{enumerate*}\n"
      ],
      "text/markdown": [
       "1. 144756\n",
       "2. 11\n",
       "\n",
       "\n"
      ],
      "text/plain": [
       "[1] 144756     11"
      ]
     },
     "metadata": {},
     "output_type": "display_data"
    }
   ],
   "source": [
    "dim(sub_UKBB)"
   ]
  },
  {
   "cell_type": "code",
   "execution_count": 4,
   "metadata": {},
   "outputs": [
    {
     "data": {
      "text/html": [
       "<style>\n",
       ".list-inline {list-style: none; margin:0; padding: 0}\n",
       ".list-inline>li {display: inline-block}\n",
       ".list-inline>li:not(:last-child)::after {content: \"\\00b7\"; padding: 0 .5ex}\n",
       "</style>\n",
       "<ol class=list-inline><li>'IID'</li><li>'FID'</li><li>'f.4803.0.0'</li><li>'f.4803.1.0'</li><li>'f.4803.2.0'</li><li>'f.4803.3.0'</li><li>'f.22001.0.0'</li><li>'f.21003.0.0'</li><li>'f.21003.1.0'</li><li>'f.21003.2.0'</li><li>'f.21003.3.0'</li></ol>\n"
      ],
      "text/latex": [
       "\\begin{enumerate*}\n",
       "\\item 'IID'\n",
       "\\item 'FID'\n",
       "\\item 'f.4803.0.0'\n",
       "\\item 'f.4803.1.0'\n",
       "\\item 'f.4803.2.0'\n",
       "\\item 'f.4803.3.0'\n",
       "\\item 'f.22001.0.0'\n",
       "\\item 'f.21003.0.0'\n",
       "\\item 'f.21003.1.0'\n",
       "\\item 'f.21003.2.0'\n",
       "\\item 'f.21003.3.0'\n",
       "\\end{enumerate*}\n"
      ],
      "text/markdown": [
       "1. 'IID'\n",
       "2. 'FID'\n",
       "3. 'f.4803.0.0'\n",
       "4. 'f.4803.1.0'\n",
       "5. 'f.4803.2.0'\n",
       "6. 'f.4803.3.0'\n",
       "7. 'f.22001.0.0'\n",
       "8. 'f.21003.0.0'\n",
       "9. 'f.21003.1.0'\n",
       "10. 'f.21003.2.0'\n",
       "11. 'f.21003.3.0'\n",
       "\n",
       "\n"
      ],
      "text/plain": [
       " [1] \"IID\"         \"FID\"         \"f.4803.0.0\"  \"f.4803.1.0\"  \"f.4803.2.0\" \n",
       " [6] \"f.4803.3.0\"  \"f.22001.0.0\" \"f.21003.0.0\" \"f.21003.1.0\" \"f.21003.2.0\"\n",
       "[11] \"f.21003.3.0\""
      ]
     },
     "metadata": {},
     "output_type": "display_data"
    }
   ],
   "source": [
    "colnames(sub_UKBB) # 11 variables "
   ]
  },
  {
   "cell_type": "code",
   "execution_count": 5,
   "metadata": {},
   "outputs": [
    {
     "data": {
      "text/plain": [
       "      IID               FID           f.4803.0.0         f.4803.1.0       \n",
       " Min.   :1000046   Min.   :1000046   Length:144756      Length:144756     \n",
       " 1st Qu.:2267981   1st Qu.:2267981   Class :character   Class :character  \n",
       " Median :3527260   Median :3527260   Mode  :character   Mode  :character  \n",
       " Mean   :3521488   Mean   :3521488                                        \n",
       " 3rd Qu.:4779335   3rd Qu.:4779335                                        \n",
       " Max.   :6025411   Max.   :6025411                                        \n",
       "                                                                          \n",
       "  f.4803.2.0         f.4803.3.0        f.22001.0.0         f.21003.0.0   \n",
       " Length:144756      Length:144756      Length:144756      Min.   :40.00  \n",
       " Class :character   Class :character   Class :character   1st Qu.:51.00  \n",
       " Mode  :character   Mode  :character   Mode  :character   Median :58.00  \n",
       "                                                          Mean   :56.98  \n",
       "                                                          3rd Qu.:63.00  \n",
       "                                                          Max.   :73.00  \n",
       "                                                                         \n",
       "  f.21003.1.0      f.21003.2.0      f.21003.3.0    \n",
       " Min.   :43.00    Min.   :45.00    Min.   :50.00   \n",
       " 1st Qu.:57.00    1st Qu.:58.00    1st Qu.:59.00   \n",
       " Median :63.00    Median :65.00    Median :66.00   \n",
       " Mean   :61.69    Mean   :64.36    Mean   :65.12   \n",
       " 3rd Qu.:67.00    3rd Qu.:70.00    3rd Qu.:71.00   \n",
       " Max.   :79.00    Max.   :82.00    Max.   :82.00   \n",
       " NA's   :130131   NA's   :110381   NA's   :142607  "
      ]
     },
     "metadata": {},
     "output_type": "display_data"
    }
   ],
   "source": [
    "summary(sub_UKBB)"
   ]
  },
  {
   "cell_type": "code",
   "execution_count": 6,
   "metadata": {},
   "outputs": [
    {
     "data": {
      "text/html": [
       "<table>\n",
       "<caption>A data.frame: 6 × 11</caption>\n",
       "<thead>\n",
       "\t<tr><th></th><th scope=col>IID</th><th scope=col>FID</th><th scope=col>f.4803.0.0</th><th scope=col>f.4803.1.0</th><th scope=col>f.4803.2.0</th><th scope=col>f.4803.3.0</th><th scope=col>f.22001.0.0</th><th scope=col>f.21003.0.0</th><th scope=col>f.21003.1.0</th><th scope=col>f.21003.2.0</th><th scope=col>f.21003.3.0</th></tr>\n",
       "\t<tr><th></th><th scope=col>&lt;int&gt;</th><th scope=col>&lt;int&gt;</th><th scope=col>&lt;chr&gt;</th><th scope=col>&lt;chr&gt;</th><th scope=col>&lt;chr&gt;</th><th scope=col>&lt;chr&gt;</th><th scope=col>&lt;chr&gt;</th><th scope=col>&lt;int&gt;</th><th scope=col>&lt;int&gt;</th><th scope=col>&lt;int&gt;</th><th scope=col>&lt;int&gt;</th></tr>\n",
       "</thead>\n",
       "<tbody>\n",
       "\t<tr><th scope=row>1</th><td>1000046</td><td>1000046</td><td>NA                                    </td><td>NA       </td><td>No, never</td><td>NA</td><td>Female</td><td>62</td><td>NA</td><td>73</td><td>NA</td></tr>\n",
       "\t<tr><th scope=row>2</th><td>1000063</td><td>1000063</td><td>No, never                             </td><td>NA       </td><td>NA       </td><td>NA</td><td>Male  </td><td>43</td><td>NA</td><td>NA</td><td>NA</td></tr>\n",
       "\t<tr><th scope=row>3</th><td>1000078</td><td>1000078</td><td>NA                                    </td><td>No, never</td><td>No, never</td><td>NA</td><td>Female</td><td>52</td><td>57</td><td>60</td><td>NA</td></tr>\n",
       "\t<tr><th scope=row>4</th><td>1000105</td><td>1000105</td><td>Yes, but not now, but have in the past</td><td>NA       </td><td>NA       </td><td>NA</td><td>Female</td><td>54</td><td>NA</td><td>NA</td><td>NA</td></tr>\n",
       "\t<tr><th scope=row>5</th><td>1000112</td><td>1000112</td><td>NA                                    </td><td>NA       </td><td>No, never</td><td>NA</td><td>Male  </td><td>58</td><td>NA</td><td>68</td><td>NA</td></tr>\n",
       "\t<tr><th scope=row>6</th><td>1000141</td><td>1000141</td><td>No, never                             </td><td>NA       </td><td>NA       </td><td>NA</td><td>Female</td><td>49</td><td>NA</td><td>NA</td><td>NA</td></tr>\n",
       "</tbody>\n",
       "</table>\n"
      ],
      "text/latex": [
       "A data.frame: 6 × 11\n",
       "\\begin{tabular}{r|lllllllllll}\n",
       "  & IID & FID & f.4803.0.0 & f.4803.1.0 & f.4803.2.0 & f.4803.3.0 & f.22001.0.0 & f.21003.0.0 & f.21003.1.0 & f.21003.2.0 & f.21003.3.0\\\\\n",
       "  & <int> & <int> & <chr> & <chr> & <chr> & <chr> & <chr> & <int> & <int> & <int> & <int>\\\\\n",
       "\\hline\n",
       "\t1 & 1000046 & 1000046 & NA                                     & NA        & No, never & NA & Female & 62 & NA & 73 & NA\\\\\n",
       "\t2 & 1000063 & 1000063 & No, never                              & NA        & NA        & NA & Male   & 43 & NA & NA & NA\\\\\n",
       "\t3 & 1000078 & 1000078 & NA                                     & No, never & No, never & NA & Female & 52 & 57 & 60 & NA\\\\\n",
       "\t4 & 1000105 & 1000105 & Yes, but not now, but have in the past & NA        & NA        & NA & Female & 54 & NA & NA & NA\\\\\n",
       "\t5 & 1000112 & 1000112 & NA                                     & NA        & No, never & NA & Male   & 58 & NA & 68 & NA\\\\\n",
       "\t6 & 1000141 & 1000141 & No, never                              & NA        & NA        & NA & Female & 49 & NA & NA & NA\\\\\n",
       "\\end{tabular}\n"
      ],
      "text/markdown": [
       "\n",
       "A data.frame: 6 × 11\n",
       "\n",
       "| <!--/--> | IID &lt;int&gt; | FID &lt;int&gt; | f.4803.0.0 &lt;chr&gt; | f.4803.1.0 &lt;chr&gt; | f.4803.2.0 &lt;chr&gt; | f.4803.3.0 &lt;chr&gt; | f.22001.0.0 &lt;chr&gt; | f.21003.0.0 &lt;int&gt; | f.21003.1.0 &lt;int&gt; | f.21003.2.0 &lt;int&gt; | f.21003.3.0 &lt;int&gt; |\n",
       "|---|---|---|---|---|---|---|---|---|---|---|---|\n",
       "| 1 | 1000046 | 1000046 | NA                                     | NA        | No, never | NA | Female | 62 | NA | 73 | NA |\n",
       "| 2 | 1000063 | 1000063 | No, never                              | NA        | NA        | NA | Male   | 43 | NA | NA | NA |\n",
       "| 3 | 1000078 | 1000078 | NA                                     | No, never | No, never | NA | Female | 52 | 57 | 60 | NA |\n",
       "| 4 | 1000105 | 1000105 | Yes, but not now, but have in the past | NA        | NA        | NA | Female | 54 | NA | NA | NA |\n",
       "| 5 | 1000112 | 1000112 | NA                                     | NA        | No, never | NA | Male   | 58 | NA | 68 | NA |\n",
       "| 6 | 1000141 | 1000141 | No, never                              | NA        | NA        | NA | Female | 49 | NA | NA | NA |\n",
       "\n"
      ],
      "text/plain": [
       "  IID     FID     f.4803.0.0                             f.4803.1.0 f.4803.2.0\n",
       "1 1000046 1000046 NA                                     NA         No, never \n",
       "2 1000063 1000063 No, never                              NA         NA        \n",
       "3 1000078 1000078 NA                                     No, never  No, never \n",
       "4 1000105 1000105 Yes, but not now, but have in the past NA         NA        \n",
       "5 1000112 1000112 NA                                     NA         No, never \n",
       "6 1000141 1000141 No, never                              NA         NA        \n",
       "  f.4803.3.0 f.22001.0.0 f.21003.0.0 f.21003.1.0 f.21003.2.0 f.21003.3.0\n",
       "1 NA         Female      62          NA          73          NA         \n",
       "2 NA         Male        43          NA          NA          NA         \n",
       "3 NA         Female      52          57          60          NA         \n",
       "4 NA         Female      54          NA          NA          NA         \n",
       "5 NA         Male        58          NA          68          NA         \n",
       "6 NA         Female      49          NA          NA          NA         "
      ]
     },
     "metadata": {},
     "output_type": "display_data"
    }
   ],
   "source": [
    "head(sub_UKBB)"
   ]
  },
  {
   "cell_type": "markdown",
   "metadata": {},
   "source": [
    "**Q1:** How many females and males are there in this data? Please show your code below how these numbers are computed.\n",
    " "
   ]
  },
  {
   "cell_type": "code",
   "execution_count": 7,
   "metadata": {},
   "outputs": [
    {
     "data": {
      "text/plain": [
       "\n",
       "Female   Male \n",
       " 77535  67221 "
      ]
     },
     "metadata": {},
     "output_type": "display_data"
    }
   ],
   "source": [
    "table(sub_UKBB[\"f.22001.0.0\"])"
   ]
  },
  {
   "cell_type": "markdown",
   "metadata": {},
   "source": [
    "**Q2:** Can you tell what kind of trait it is for tinnitus? \n",
    "A.Binary trait. B. Continuous trait. \n",
    "\n",
    "**Answer: A. Binary trait**"
   ]
  },
  {
   "cell_type": "markdown",
   "metadata": {},
   "source": [
    "**Q3:** Recode f.4803\n",
    "\n",
    "Field 4803 (f.4803) is the answers from participants for ACE touchscreen question \"Do you get or have you had noises (such as ringing or buzzing) in your head or in one or both ears that lasts for more than five minutes at a time?\" \n",
    "\n",
    "These fields contains answers to the questions in their first, 2nd, 3rd and 4th hospital visit: f.4803.0.0, f.4803.1.0, f.4803.2.0, f.4803.3.0. \n"
   ]
  },
  {
   "cell_type": "code",
   "execution_count": 15,
   "metadata": {},
   "outputs": [
    {
     "name": "stdout",
     "output_type": "stream",
     "text": [
      "f.4803.0.0_recode summary:\n",
      "    0     1 \n",
      "80805 31685 \n",
      "\n",
      "f.4803.1.0_recode summary:\n",
      "    0     1 \n",
      "10282  4214 \n",
      "\n",
      "f.4803.2.0_recode summary:\n",
      "    0     1 \n",
      "22583 11405 \n",
      "\n",
      "f.4803.3.0_recode summary:\n",
      "   0    1 \n",
      "1451  691 \n",
      "\n"
     ]
    }
   ],
   "source": [
    "# Recode function:\n",
    "df_recode<-function(df,column_name){\n",
    "  new_names<-c()\n",
    "  for (i in column_name){\n",
    "    new_column_name<-paste0(i,\"_recode\")\n",
    "    new_names<-c(new_names,new_column_name)\n",
    "    df[,new_column_name] <- revalue(df[,i], c(\"No, never\"= 0, \n",
    "                                            \"Yes, but not now, but have in the past\"= 1, \n",
    "                                            \"Yes, now some of the time\"= 1, \n",
    "                                            \"Yes, now a lot of the time\"= 1,\n",
    "                                            \"Yes, now most or all of the time\"= 1,\n",
    "                                            \"Prefer not to answer\"= NA,\n",
    "                                            \"Do not know\"= NA ))\n",
    "  }\n",
    "  return (list(df=df,new_column_names=new_names))\n",
    "}\n",
    "\n",
    "# columns needs to be recoded:\n",
    "column_name<-c(\"f.4803.0.0\",\"f.4803.1.0\",\"f.4803.2.0\",\"f.4803.3.0\")\n",
    "# get a new data.frame with recoded columns added:\n",
    "df_recode<-recode(df=sub_UKBB,column_name)$df\n",
    "# get names of recoded columns:\n",
    "new_column_names<-recode(df=sub_UKBB,column_name)$new_column_names\n",
    "# show recode summary:\n",
    "for (i in new_column_names)\n",
    "{cat(i,\"summary:\");print(table(df_recode[,i]));cat(\"\\n\")}"
   ]
  },
  {
   "cell_type": "markdown",
   "metadata": {},
   "source": [
    "What do you think has been achieved by recoding these fields?\n",
    "\n",
    "**Turn the information into a machine understandable format that's more suitable for model (e.g. regression**"
   ]
  },
  {
   "cell_type": "markdown",
   "metadata": {},
   "source": [
    "**Q4:** Define case and control status of tinnitus for each participant in the study:"
   ]
  },
  {
   "cell_type": "code",
   "execution_count": 16,
   "metadata": {},
   "outputs": [
    {
     "data": {
      "text/html": [
       "<table>\n",
       "<caption>A data.frame: 10 × 16</caption>\n",
       "<thead>\n",
       "\t<tr><th></th><th scope=col>IID</th><th scope=col>FID</th><th scope=col>f.4803.0.0</th><th scope=col>f.4803.1.0</th><th scope=col>f.4803.2.0</th><th scope=col>f.4803.3.0</th><th scope=col>f.22001.0.0</th><th scope=col>f.21003.0.0</th><th scope=col>f.21003.1.0</th><th scope=col>f.21003.2.0</th><th scope=col>f.21003.3.0</th><th scope=col>f.4803.0.0_recode</th><th scope=col>f.4803.1.0_recode</th><th scope=col>f.4803.2.0_recode</th><th scope=col>f.4803.3.0_recode</th><th scope=col>cases</th></tr>\n",
       "\t<tr><th></th><th scope=col>&lt;int&gt;</th><th scope=col>&lt;int&gt;</th><th scope=col>&lt;chr&gt;</th><th scope=col>&lt;chr&gt;</th><th scope=col>&lt;chr&gt;</th><th scope=col>&lt;chr&gt;</th><th scope=col>&lt;chr&gt;</th><th scope=col>&lt;int&gt;</th><th scope=col>&lt;int&gt;</th><th scope=col>&lt;int&gt;</th><th scope=col>&lt;int&gt;</th><th scope=col>&lt;chr&gt;</th><th scope=col>&lt;chr&gt;</th><th scope=col>&lt;chr&gt;</th><th scope=col>&lt;chr&gt;</th><th scope=col>&lt;lgl&gt;</th></tr>\n",
       "</thead>\n",
       "<tbody>\n",
       "\t<tr><th scope=row>1</th><td>1000046</td><td>1000046</td><td>NA                                    </td><td>NA       </td><td>No, never</td><td>NA</td><td>Female</td><td>62</td><td>NA</td><td>73</td><td>NA</td><td>NA</td><td>NA</td><td>0 </td><td>NA</td><td>FALSE</td></tr>\n",
       "\t<tr><th scope=row>2</th><td>1000063</td><td>1000063</td><td>No, never                             </td><td>NA       </td><td>NA       </td><td>NA</td><td>Male  </td><td>43</td><td>NA</td><td>NA</td><td>NA</td><td>0 </td><td>NA</td><td>NA</td><td>NA</td><td>FALSE</td></tr>\n",
       "\t<tr><th scope=row>3</th><td>1000078</td><td>1000078</td><td>NA                                    </td><td>No, never</td><td>No, never</td><td>NA</td><td>Female</td><td>52</td><td>57</td><td>60</td><td>NA</td><td>NA</td><td>0 </td><td>0 </td><td>NA</td><td>FALSE</td></tr>\n",
       "\t<tr><th scope=row>4</th><td>1000105</td><td>1000105</td><td>Yes, but not now, but have in the past</td><td>NA       </td><td>NA       </td><td>NA</td><td>Female</td><td>54</td><td>NA</td><td>NA</td><td>NA</td><td>1 </td><td>NA</td><td>NA</td><td>NA</td><td> TRUE</td></tr>\n",
       "\t<tr><th scope=row>5</th><td>1000112</td><td>1000112</td><td>NA                                    </td><td>NA       </td><td>No, never</td><td>NA</td><td>Male  </td><td>58</td><td>NA</td><td>68</td><td>NA</td><td>NA</td><td>NA</td><td>0 </td><td>NA</td><td>FALSE</td></tr>\n",
       "\t<tr><th scope=row>6</th><td>1000141</td><td>1000141</td><td>No, never                             </td><td>NA       </td><td>NA       </td><td>NA</td><td>Female</td><td>49</td><td>NA</td><td>NA</td><td>NA</td><td>0 </td><td>NA</td><td>NA</td><td>NA</td><td>FALSE</td></tr>\n",
       "\t<tr><th scope=row>7</th><td>1000236</td><td>1000236</td><td>No, never                             </td><td>NA       </td><td>No, never</td><td>NA</td><td>Male  </td><td>61</td><td>NA</td><td>70</td><td>NA</td><td>0 </td><td>NA</td><td>0 </td><td>NA</td><td>FALSE</td></tr>\n",
       "\t<tr><th scope=row>8</th><td>1000248</td><td>1000248</td><td>No, never                             </td><td>NA       </td><td>NA       </td><td>NA</td><td>Male  </td><td>63</td><td>NA</td><td>NA</td><td>NA</td><td>0 </td><td>NA</td><td>NA</td><td>NA</td><td>FALSE</td></tr>\n",
       "\t<tr><th scope=row>9</th><td>1000269</td><td>1000269</td><td>NA                                    </td><td>NA       </td><td>No, never</td><td>NA</td><td>Male  </td><td>60</td><td>NA</td><td>71</td><td>NA</td><td>NA</td><td>NA</td><td>0 </td><td>NA</td><td>FALSE</td></tr>\n",
       "\t<tr><th scope=row>10</th><td>1000340</td><td>1000340</td><td>No, never                             </td><td>NA       </td><td>NA       </td><td>NA</td><td>Female</td><td>54</td><td>NA</td><td>NA</td><td>NA</td><td>0 </td><td>NA</td><td>NA</td><td>NA</td><td>FALSE</td></tr>\n",
       "</tbody>\n",
       "</table>\n"
      ],
      "text/latex": [
       "A data.frame: 10 × 16\n",
       "\\begin{tabular}{r|llllllllllllllll}\n",
       "  & IID & FID & f.4803.0.0 & f.4803.1.0 & f.4803.2.0 & f.4803.3.0 & f.22001.0.0 & f.21003.0.0 & f.21003.1.0 & f.21003.2.0 & f.21003.3.0 & f.4803.0.0\\_recode & f.4803.1.0\\_recode & f.4803.2.0\\_recode & f.4803.3.0\\_recode & cases\\\\\n",
       "  & <int> & <int> & <chr> & <chr> & <chr> & <chr> & <chr> & <int> & <int> & <int> & <int> & <chr> & <chr> & <chr> & <chr> & <lgl>\\\\\n",
       "\\hline\n",
       "\t1 & 1000046 & 1000046 & NA                                     & NA        & No, never & NA & Female & 62 & NA & 73 & NA & NA & NA & 0  & NA & FALSE\\\\\n",
       "\t2 & 1000063 & 1000063 & No, never                              & NA        & NA        & NA & Male   & 43 & NA & NA & NA & 0  & NA & NA & NA & FALSE\\\\\n",
       "\t3 & 1000078 & 1000078 & NA                                     & No, never & No, never & NA & Female & 52 & 57 & 60 & NA & NA & 0  & 0  & NA & FALSE\\\\\n",
       "\t4 & 1000105 & 1000105 & Yes, but not now, but have in the past & NA        & NA        & NA & Female & 54 & NA & NA & NA & 1  & NA & NA & NA &  TRUE\\\\\n",
       "\t5 & 1000112 & 1000112 & NA                                     & NA        & No, never & NA & Male   & 58 & NA & 68 & NA & NA & NA & 0  & NA & FALSE\\\\\n",
       "\t6 & 1000141 & 1000141 & No, never                              & NA        & NA        & NA & Female & 49 & NA & NA & NA & 0  & NA & NA & NA & FALSE\\\\\n",
       "\t7 & 1000236 & 1000236 & No, never                              & NA        & No, never & NA & Male   & 61 & NA & 70 & NA & 0  & NA & 0  & NA & FALSE\\\\\n",
       "\t8 & 1000248 & 1000248 & No, never                              & NA        & NA        & NA & Male   & 63 & NA & NA & NA & 0  & NA & NA & NA & FALSE\\\\\n",
       "\t9 & 1000269 & 1000269 & NA                                     & NA        & No, never & NA & Male   & 60 & NA & 71 & NA & NA & NA & 0  & NA & FALSE\\\\\n",
       "\t10 & 1000340 & 1000340 & No, never                              & NA        & NA        & NA & Female & 54 & NA & NA & NA & 0  & NA & NA & NA & FALSE\\\\\n",
       "\\end{tabular}\n"
      ],
      "text/markdown": [
       "\n",
       "A data.frame: 10 × 16\n",
       "\n",
       "| <!--/--> | IID &lt;int&gt; | FID &lt;int&gt; | f.4803.0.0 &lt;chr&gt; | f.4803.1.0 &lt;chr&gt; | f.4803.2.0 &lt;chr&gt; | f.4803.3.0 &lt;chr&gt; | f.22001.0.0 &lt;chr&gt; | f.21003.0.0 &lt;int&gt; | f.21003.1.0 &lt;int&gt; | f.21003.2.0 &lt;int&gt; | f.21003.3.0 &lt;int&gt; | f.4803.0.0_recode &lt;chr&gt; | f.4803.1.0_recode &lt;chr&gt; | f.4803.2.0_recode &lt;chr&gt; | f.4803.3.0_recode &lt;chr&gt; | cases &lt;lgl&gt; |\n",
       "|---|---|---|---|---|---|---|---|---|---|---|---|---|---|---|---|---|\n",
       "| 1 | 1000046 | 1000046 | NA                                     | NA        | No, never | NA | Female | 62 | NA | 73 | NA | NA | NA | 0  | NA | FALSE |\n",
       "| 2 | 1000063 | 1000063 | No, never                              | NA        | NA        | NA | Male   | 43 | NA | NA | NA | 0  | NA | NA | NA | FALSE |\n",
       "| 3 | 1000078 | 1000078 | NA                                     | No, never | No, never | NA | Female | 52 | 57 | 60 | NA | NA | 0  | 0  | NA | FALSE |\n",
       "| 4 | 1000105 | 1000105 | Yes, but not now, but have in the past | NA        | NA        | NA | Female | 54 | NA | NA | NA | 1  | NA | NA | NA |  TRUE |\n",
       "| 5 | 1000112 | 1000112 | NA                                     | NA        | No, never | NA | Male   | 58 | NA | 68 | NA | NA | NA | 0  | NA | FALSE |\n",
       "| 6 | 1000141 | 1000141 | No, never                              | NA        | NA        | NA | Female | 49 | NA | NA | NA | 0  | NA | NA | NA | FALSE |\n",
       "| 7 | 1000236 | 1000236 | No, never                              | NA        | No, never | NA | Male   | 61 | NA | 70 | NA | 0  | NA | 0  | NA | FALSE |\n",
       "| 8 | 1000248 | 1000248 | No, never                              | NA        | NA        | NA | Male   | 63 | NA | NA | NA | 0  | NA | NA | NA | FALSE |\n",
       "| 9 | 1000269 | 1000269 | NA                                     | NA        | No, never | NA | Male   | 60 | NA | 71 | NA | NA | NA | 0  | NA | FALSE |\n",
       "| 10 | 1000340 | 1000340 | No, never                              | NA        | NA        | NA | Female | 54 | NA | NA | NA | 0  | NA | NA | NA | FALSE |\n",
       "\n"
      ],
      "text/plain": [
       "   IID     FID     f.4803.0.0                             f.4803.1.0 f.4803.2.0\n",
       "1  1000046 1000046 NA                                     NA         No, never \n",
       "2  1000063 1000063 No, never                              NA         NA        \n",
       "3  1000078 1000078 NA                                     No, never  No, never \n",
       "4  1000105 1000105 Yes, but not now, but have in the past NA         NA        \n",
       "5  1000112 1000112 NA                                     NA         No, never \n",
       "6  1000141 1000141 No, never                              NA         NA        \n",
       "7  1000236 1000236 No, never                              NA         No, never \n",
       "8  1000248 1000248 No, never                              NA         NA        \n",
       "9  1000269 1000269 NA                                     NA         No, never \n",
       "10 1000340 1000340 No, never                              NA         NA        \n",
       "   f.4803.3.0 f.22001.0.0 f.21003.0.0 f.21003.1.0 f.21003.2.0 f.21003.3.0\n",
       "1  NA         Female      62          NA          73          NA         \n",
       "2  NA         Male        43          NA          NA          NA         \n",
       "3  NA         Female      52          57          60          NA         \n",
       "4  NA         Female      54          NA          NA          NA         \n",
       "5  NA         Male        58          NA          68          NA         \n",
       "6  NA         Female      49          NA          NA          NA         \n",
       "7  NA         Male        61          NA          70          NA         \n",
       "8  NA         Male        63          NA          NA          NA         \n",
       "9  NA         Male        60          NA          71          NA         \n",
       "10 NA         Female      54          NA          NA          NA         \n",
       "   f.4803.0.0_recode f.4803.1.0_recode f.4803.2.0_recode f.4803.3.0_recode\n",
       "1  NA                NA                0                 NA               \n",
       "2  0                 NA                NA                NA               \n",
       "3  NA                0                 0                 NA               \n",
       "4  1                 NA                NA                NA               \n",
       "5  NA                NA                0                 NA               \n",
       "6  0                 NA                NA                NA               \n",
       "7  0                 NA                0                 NA               \n",
       "8  0                 NA                NA                NA               \n",
       "9  NA                NA                0                 NA               \n",
       "10 0                 NA                NA                NA               \n",
       "   cases\n",
       "1  FALSE\n",
       "2  FALSE\n",
       "3  FALSE\n",
       "4   TRUE\n",
       "5  FALSE\n",
       "6  FALSE\n",
       "7  FALSE\n",
       "8  FALSE\n",
       "9  FALSE\n",
       "10 FALSE"
      ]
     },
     "metadata": {},
     "output_type": "display_data"
    }
   ],
   "source": [
    "data_sub <- df_recode[,new_column_names]\n",
    "# Function to define cases\n",
    "f<-function(x){\n",
    "  visit<-c()\n",
    "  for (i in 1:4){\n",
    "    if (!is.na(x[i]))\n",
    "    {visit<-c(visit,x[i])}\n",
    "  }\n",
    "  if (\"1\" %in% visit){result= TRUE}\n",
    "  else{result=FALSE}\n",
    "  return (result)\n",
    "}\n",
    "# Apply the above function\n",
    "df_recode$cases<-apply(data_sub, 1, f)\n",
    "head(df_recode,10)"
   ]
  },
  {
   "cell_type": "markdown",
   "metadata": {},
   "source": [
    "How many cases and how many controls do we have for this phenotpype?"
   ]
  },
  {
   "cell_type": "code",
   "execution_count": 17,
   "metadata": {},
   "outputs": [
    {
     "data": {
      "text/plain": [
       "\n",
       " FALSE   TRUE \n",
       "101550  43206 "
      ]
     },
     "metadata": {},
     "output_type": "display_data"
    }
   ],
   "source": [
    "table(df_recode$cases)"
   ]
  },
  {
   "cell_type": "markdown",
   "metadata": {},
   "source": [
    "**Q5:** Extract a subset of columns from all participants for association study. "
   ]
  },
  {
   "cell_type": "code",
   "execution_count": 18,
   "metadata": {},
   "outputs": [
    {
     "data": {
      "text/html": [
       "<table>\n",
       "<caption>A data.frame: 10 × 3</caption>\n",
       "<thead>\n",
       "\t<tr><th></th><th scope=col>IID</th><th scope=col>FID</th><th scope=col>cases</th></tr>\n",
       "\t<tr><th></th><th scope=col>&lt;int&gt;</th><th scope=col>&lt;int&gt;</th><th scope=col>&lt;lgl&gt;</th></tr>\n",
       "</thead>\n",
       "<tbody>\n",
       "\t<tr><th scope=row>1</th><td>1000105</td><td>1000105</td><td>TRUE</td></tr>\n",
       "\t<tr><th scope=row>2</th><td>1000357</td><td>1000357</td><td>TRUE</td></tr>\n",
       "\t<tr><th scope=row>3</th><td>1000443</td><td>1000443</td><td>TRUE</td></tr>\n",
       "\t<tr><th scope=row>4</th><td>1000494</td><td>1000494</td><td>TRUE</td></tr>\n",
       "\t<tr><th scope=row>5</th><td>1000625</td><td>1000625</td><td>TRUE</td></tr>\n",
       "\t<tr><th scope=row>6</th><td>1000713</td><td>1000713</td><td>TRUE</td></tr>\n",
       "\t<tr><th scope=row>7</th><td>1000728</td><td>1000728</td><td>TRUE</td></tr>\n",
       "\t<tr><th scope=row>8</th><td>1000745</td><td>1000745</td><td>TRUE</td></tr>\n",
       "\t<tr><th scope=row>9</th><td>1000875</td><td>1000875</td><td>TRUE</td></tr>\n",
       "\t<tr><th scope=row>10</th><td>1000992</td><td>1000992</td><td>TRUE</td></tr>\n",
       "</tbody>\n",
       "</table>\n"
      ],
      "text/latex": [
       "A data.frame: 10 × 3\n",
       "\\begin{tabular}{r|lll}\n",
       "  & IID & FID & cases\\\\\n",
       "  & <int> & <int> & <lgl>\\\\\n",
       "\\hline\n",
       "\t1 & 1000105 & 1000105 & TRUE\\\\\n",
       "\t2 & 1000357 & 1000357 & TRUE\\\\\n",
       "\t3 & 1000443 & 1000443 & TRUE\\\\\n",
       "\t4 & 1000494 & 1000494 & TRUE\\\\\n",
       "\t5 & 1000625 & 1000625 & TRUE\\\\\n",
       "\t6 & 1000713 & 1000713 & TRUE\\\\\n",
       "\t7 & 1000728 & 1000728 & TRUE\\\\\n",
       "\t8 & 1000745 & 1000745 & TRUE\\\\\n",
       "\t9 & 1000875 & 1000875 & TRUE\\\\\n",
       "\t10 & 1000992 & 1000992 & TRUE\\\\\n",
       "\\end{tabular}\n"
      ],
      "text/markdown": [
       "\n",
       "A data.frame: 10 × 3\n",
       "\n",
       "| <!--/--> | IID &lt;int&gt; | FID &lt;int&gt; | cases &lt;lgl&gt; |\n",
       "|---|---|---|---|\n",
       "| 1 | 1000105 | 1000105 | TRUE |\n",
       "| 2 | 1000357 | 1000357 | TRUE |\n",
       "| 3 | 1000443 | 1000443 | TRUE |\n",
       "| 4 | 1000494 | 1000494 | TRUE |\n",
       "| 5 | 1000625 | 1000625 | TRUE |\n",
       "| 6 | 1000713 | 1000713 | TRUE |\n",
       "| 7 | 1000728 | 1000728 | TRUE |\n",
       "| 8 | 1000745 | 1000745 | TRUE |\n",
       "| 9 | 1000875 | 1000875 | TRUE |\n",
       "| 10 | 1000992 | 1000992 | TRUE |\n",
       "\n"
      ],
      "text/plain": [
       "   IID     FID     cases\n",
       "1  1000105 1000105 TRUE \n",
       "2  1000357 1000357 TRUE \n",
       "3  1000443 1000443 TRUE \n",
       "4  1000494 1000494 TRUE \n",
       "5  1000625 1000625 TRUE \n",
       "6  1000713 1000713 TRUE \n",
       "7  1000728 1000728 TRUE \n",
       "8  1000745 1000745 TRUE \n",
       "9  1000875 1000875 TRUE \n",
       "10 1000992 1000992 TRUE "
      ]
     },
     "metadata": {},
     "output_type": "display_data"
    }
   ],
   "source": [
    "df_cases  <- df_recode %>%\n",
    "  select(IID,FID,cases)%>% \n",
    "  filter(cases==TRUE)\n",
    "head(df_cases,10)"
   ]
  },
  {
   "cell_type": "markdown",
   "metadata": {},
   "source": [
    "Please modify codes above to extract all the controls and keep only these columns: `FID`, `IID`, `cases`, `f.22001.0.0`, `f.21003.0.0`, `f.21003.1.0`, `f.21003.2.0`, `f.21003.3.0`. Please show the first 10 rows of the output.\n"
   ]
  },
  {
   "cell_type": "code",
   "execution_count": 19,
   "metadata": {},
   "outputs": [
    {
     "data": {
      "text/html": [
       "<table>\n",
       "<caption>A data.frame: 10 × 8</caption>\n",
       "<thead>\n",
       "\t<tr><th></th><th scope=col>IID</th><th scope=col>FID</th><th scope=col>cases</th><th scope=col>f.22001.0.0</th><th scope=col>f.21003.0.0</th><th scope=col>f.21003.1.0</th><th scope=col>f.21003.2.0</th><th scope=col>f.21003.3.0</th></tr>\n",
       "\t<tr><th></th><th scope=col>&lt;int&gt;</th><th scope=col>&lt;int&gt;</th><th scope=col>&lt;lgl&gt;</th><th scope=col>&lt;chr&gt;</th><th scope=col>&lt;int&gt;</th><th scope=col>&lt;int&gt;</th><th scope=col>&lt;int&gt;</th><th scope=col>&lt;int&gt;</th></tr>\n",
       "</thead>\n",
       "<tbody>\n",
       "\t<tr><th scope=row>1</th><td>1000105</td><td>1000105</td><td>TRUE</td><td>Female</td><td>54</td><td>NA</td><td>NA</td><td>NA</td></tr>\n",
       "\t<tr><th scope=row>2</th><td>1000357</td><td>1000357</td><td>TRUE</td><td>Female</td><td>69</td><td>NA</td><td>NA</td><td>NA</td></tr>\n",
       "\t<tr><th scope=row>3</th><td>1000443</td><td>1000443</td><td>TRUE</td><td>Female</td><td>45</td><td>NA</td><td>52</td><td>NA</td></tr>\n",
       "\t<tr><th scope=row>4</th><td>1000494</td><td>1000494</td><td>TRUE</td><td>Male  </td><td>61</td><td>NA</td><td>NA</td><td>NA</td></tr>\n",
       "\t<tr><th scope=row>5</th><td>1000625</td><td>1000625</td><td>TRUE</td><td>Female</td><td>60</td><td>NA</td><td>NA</td><td>NA</td></tr>\n",
       "\t<tr><th scope=row>6</th><td>1000713</td><td>1000713</td><td>TRUE</td><td>Male  </td><td>58</td><td>NA</td><td>67</td><td>NA</td></tr>\n",
       "\t<tr><th scope=row>7</th><td>1000728</td><td>1000728</td><td>TRUE</td><td>Male  </td><td>61</td><td>NA</td><td>NA</td><td>NA</td></tr>\n",
       "\t<tr><th scope=row>8</th><td>1000745</td><td>1000745</td><td>TRUE</td><td>Male  </td><td>60</td><td>NA</td><td>NA</td><td>NA</td></tr>\n",
       "\t<tr><th scope=row>9</th><td>1000875</td><td>1000875</td><td>TRUE</td><td>Male  </td><td>59</td><td>NA</td><td>NA</td><td>NA</td></tr>\n",
       "\t<tr><th scope=row>10</th><td>1000992</td><td>1000992</td><td>TRUE</td><td>Male  </td><td>48</td><td>NA</td><td>56</td><td>NA</td></tr>\n",
       "</tbody>\n",
       "</table>\n"
      ],
      "text/latex": [
       "A data.frame: 10 × 8\n",
       "\\begin{tabular}{r|llllllll}\n",
       "  & IID & FID & cases & f.22001.0.0 & f.21003.0.0 & f.21003.1.0 & f.21003.2.0 & f.21003.3.0\\\\\n",
       "  & <int> & <int> & <lgl> & <chr> & <int> & <int> & <int> & <int>\\\\\n",
       "\\hline\n",
       "\t1 & 1000105 & 1000105 & TRUE & Female & 54 & NA & NA & NA\\\\\n",
       "\t2 & 1000357 & 1000357 & TRUE & Female & 69 & NA & NA & NA\\\\\n",
       "\t3 & 1000443 & 1000443 & TRUE & Female & 45 & NA & 52 & NA\\\\\n",
       "\t4 & 1000494 & 1000494 & TRUE & Male   & 61 & NA & NA & NA\\\\\n",
       "\t5 & 1000625 & 1000625 & TRUE & Female & 60 & NA & NA & NA\\\\\n",
       "\t6 & 1000713 & 1000713 & TRUE & Male   & 58 & NA & 67 & NA\\\\\n",
       "\t7 & 1000728 & 1000728 & TRUE & Male   & 61 & NA & NA & NA\\\\\n",
       "\t8 & 1000745 & 1000745 & TRUE & Male   & 60 & NA & NA & NA\\\\\n",
       "\t9 & 1000875 & 1000875 & TRUE & Male   & 59 & NA & NA & NA\\\\\n",
       "\t10 & 1000992 & 1000992 & TRUE & Male   & 48 & NA & 56 & NA\\\\\n",
       "\\end{tabular}\n"
      ],
      "text/markdown": [
       "\n",
       "A data.frame: 10 × 8\n",
       "\n",
       "| <!--/--> | IID &lt;int&gt; | FID &lt;int&gt; | cases &lt;lgl&gt; | f.22001.0.0 &lt;chr&gt; | f.21003.0.0 &lt;int&gt; | f.21003.1.0 &lt;int&gt; | f.21003.2.0 &lt;int&gt; | f.21003.3.0 &lt;int&gt; |\n",
       "|---|---|---|---|---|---|---|---|---|\n",
       "| 1 | 1000105 | 1000105 | TRUE | Female | 54 | NA | NA | NA |\n",
       "| 2 | 1000357 | 1000357 | TRUE | Female | 69 | NA | NA | NA |\n",
       "| 3 | 1000443 | 1000443 | TRUE | Female | 45 | NA | 52 | NA |\n",
       "| 4 | 1000494 | 1000494 | TRUE | Male   | 61 | NA | NA | NA |\n",
       "| 5 | 1000625 | 1000625 | TRUE | Female | 60 | NA | NA | NA |\n",
       "| 6 | 1000713 | 1000713 | TRUE | Male   | 58 | NA | 67 | NA |\n",
       "| 7 | 1000728 | 1000728 | TRUE | Male   | 61 | NA | NA | NA |\n",
       "| 8 | 1000745 | 1000745 | TRUE | Male   | 60 | NA | NA | NA |\n",
       "| 9 | 1000875 | 1000875 | TRUE | Male   | 59 | NA | NA | NA |\n",
       "| 10 | 1000992 | 1000992 | TRUE | Male   | 48 | NA | 56 | NA |\n",
       "\n"
      ],
      "text/plain": [
       "   IID     FID     cases f.22001.0.0 f.21003.0.0 f.21003.1.0 f.21003.2.0\n",
       "1  1000105 1000105 TRUE  Female      54          NA          NA         \n",
       "2  1000357 1000357 TRUE  Female      69          NA          NA         \n",
       "3  1000443 1000443 TRUE  Female      45          NA          52         \n",
       "4  1000494 1000494 TRUE  Male        61          NA          NA         \n",
       "5  1000625 1000625 TRUE  Female      60          NA          NA         \n",
       "6  1000713 1000713 TRUE  Male        58          NA          67         \n",
       "7  1000728 1000728 TRUE  Male        61          NA          NA         \n",
       "8  1000745 1000745 TRUE  Male        60          NA          NA         \n",
       "9  1000875 1000875 TRUE  Male        59          NA          NA         \n",
       "10 1000992 1000992 TRUE  Male        48          NA          56         \n",
       "   f.21003.3.0\n",
       "1  NA         \n",
       "2  NA         \n",
       "3  NA         \n",
       "4  NA         \n",
       "5  NA         \n",
       "6  NA         \n",
       "7  NA         \n",
       "8  NA         \n",
       "9  NA         \n",
       "10 NA         "
      ]
     },
     "metadata": {},
     "output_type": "display_data"
    }
   ],
   "source": [
    "df_cases  <- df_recode %>%\n",
    "  select(IID,FID,cases,f.22001.0.0, f.21003.0.0, f.21003.1.0, f.21003.2.0, f.21003.3.0)%>% \n",
    "  filter(cases==TRUE)\n",
    "head(df_cases,10)"
   ]
  },
  {
   "cell_type": "markdown",
   "metadata": {},
   "source": [
    "**Q6:** Field 21003 contains the information of the age of participants, same as field 4803. Note that some of them have more than one age. Can you guess why?\n",
    "\n",
    "**That's the age of each visit, so participants will get older with subsequent visits.**\n",
    "\n",
    "**Q7:** For those with more than one age records, which age do you think should be used in the genetic association analysis?\n",
    "\n",
    "**Depends on the exact question we're trying to answer, but probably the first one. There might be bias involved if we use subsequent visits, e.g. patients taking better care of themselves after the first visit etc. **\n",
    "\n",
    "**Q8:** Please compute a summary of age information for controls (you can use `summary()` function in R):\n",
    "\n"
   ]
  },
  {
   "cell_type": "code",
   "execution_count": 26,
   "metadata": {},
   "outputs": [
    {
     "data": {
      "text/plain": [
       "   Min. 1st Qu.  Median    Mean 3rd Qu.    Max. \n",
       "  40.00   51.00   58.00   56.76   63.00   73.00 "
      ]
     },
     "metadata": {},
     "output_type": "display_data"
    }
   ],
   "source": [
    "age_controls  <- df_recode %>%\n",
    "  select(cases,f.21003.0.0)%>% \n",
    "  filter(cases==FALSE)\n",
    "summary(age_controls$f.21003.0.0)"
   ]
  },
  {
   "cell_type": "markdown",
   "metadata": {},
   "source": [
    "### Association testing via regression analysis\n",
    "\n",
    "To identify genetic factors that may be involved in this trait (tinnitus), we would need to find the association between the genotype and the phenotype of each individual. \n",
    "Regression analysis is the basis of many association analysis. Instead of overwhelming you with huge genotype data, we use here a simple dataset for regression analysis to demonstrate what association studies look like.\n",
    "\n",
    "\n",
    "We fit below simple linear model with 2 variables from a data-set to see their relationship. For example `mpg` vs. `weight` in this Auto data-set. \n",
    "\n",
    "**Q9:** Is there association between `mpg of the car` and `weight of the car`? If so, it appearing to be positive or negative? Is the association significant and why? \n",
    "\n",
    "**Negative. It is significant since p-value for F-tests and individual t-tests are near 0**"
   ]
  },
  {
   "cell_type": "code",
   "execution_count": 27,
   "metadata": {},
   "outputs": [
    {
     "name": "stderr",
     "output_type": "stream",
     "text": [
      "Loading required namespace: ISLR\n",
      "\n"
     ]
    },
    {
     "data": {
      "text/plain": [
       "\n",
       "Call:\n",
       "lm(formula = mpg ~ weight, data = auto_data)\n",
       "\n",
       "Residuals:\n",
       "     Min       1Q   Median       3Q      Max \n",
       "-11.9736  -2.7556  -0.3358   2.1379  16.5194 \n",
       "\n",
       "Coefficients:\n",
       "             Estimate Std. Error t value Pr(>|t|)    \n",
       "(Intercept) 46.216524   0.798673   57.87   <2e-16 ***\n",
       "weight      -0.007647   0.000258  -29.64   <2e-16 ***\n",
       "---\n",
       "Signif. codes:  0 ‘***’ 0.001 ‘**’ 0.01 ‘*’ 0.05 ‘.’ 0.1 ‘ ’ 1\n",
       "\n",
       "Residual standard error: 4.333 on 390 degrees of freedom\n",
       "Multiple R-squared:  0.6926,\tAdjusted R-squared:  0.6918 \n",
       "F-statistic: 878.8 on 1 and 390 DF,  p-value: < 2.2e-16\n"
      ]
     },
     "metadata": {},
     "output_type": "display_data"
    }
   ],
   "source": [
    "# check if you have ISLR package, if not, install it\n",
    "if(!requireNamespace('ISLR')) install.packages('ISLR') \n",
    "auto_data <- ISLR::Auto\n",
    "#  fit a linear regression model\n",
    "fit_1<-lm(mpg ~ weight, auto_data)\n",
    "summary(fit_1)"
   ]
  },
  {
   "cell_type": "markdown",
   "metadata": {},
   "source": [
    "**Q10:** Please create a new variable to indicate cars having MPG greater than 23 as 1, otherwise 0, then use logistic regrssion via `glm()` function to analyze association between weight and this new variable you just created. Please comment on what you find.\n",
    "\n",
    "**comments: the model and individual effects are still significant, although the interpretation of the estimates are different**"
   ]
  },
  {
   "cell_type": "code",
   "execution_count": 30,
   "metadata": {},
   "outputs": [
    {
     "data": {
      "text/plain": [
       "\n",
       "Call:\n",
       "glm(formula = mpg_binary ~ weight, family = binomial, data = auto_data)\n",
       "\n",
       "Deviance Residuals: \n",
       "    Min       1Q   Median       3Q      Max  \n",
       "-2.3700  -0.3330  -0.0277   0.4102   2.7685  \n",
       "\n",
       "Coefficients:\n",
       "              Estimate Std. Error z value Pr(>|z|)    \n",
       "(Intercept) 11.4448009  1.1350641  10.083   <2e-16 ***\n",
       "weight      -0.0040954  0.0004115  -9.952   <2e-16 ***\n",
       "---\n",
       "Signif. codes:  0 ‘***’ 0.001 ‘**’ 0.01 ‘*’ 0.05 ‘.’ 0.1 ‘ ’ 1\n",
       "\n",
       "(Dispersion parameter for binomial family taken to be 1)\n",
       "\n",
       "    Null deviance: 542.60  on 391  degrees of freedom\n",
       "Residual deviance: 234.54  on 390  degrees of freedom\n",
       "AIC: 238.54\n",
       "\n",
       "Number of Fisher Scoring iterations: 6\n"
      ]
     },
     "metadata": {},
     "output_type": "display_data"
    }
   ],
   "source": [
    "auto_data$mpg_binary <- as.integer(auto_data$mpg > 23)\n",
    "fit_2<-glm(mpg_binary ~ weight, auto_data, family=binomial)\n",
    "summary(fit_2)"
   ]
  },
  {
   "cell_type": "markdown",
   "metadata": {},
   "source": [
    "**Q11:** Find the `Estimates` from your asociation results summary. How do you interpret the estimated effects of weight in the context of linear regression, and in the context of logististic regression? (this question might be a bit challenging if you are not familiar with regression analysis; don't sweat if you cannot find the answer for it).\n",
    "\n",
    "**It means for every increase in 1 unit of \"weight\", there is a 0.0040954 decrease in the log odds of that observation having MPG > 23. Log odds defined to be ln(p/(1-p)) where p is probability of MPG > 23.**"
   ]
  }
 ],
 "metadata": {
  "kernelspec": {
   "display_name": "R",
   "language": "R",
   "name": "ir"
  },
  "language_info": {
   "codemirror_mode": "r",
   "file_extension": ".r",
   "mimetype": "text/x-r-source",
   "name": "R",
   "pygments_lexer": "r",
   "version": "4.0.3"
  }
 },
 "nbformat": 4,
 "nbformat_minor": 5
}
